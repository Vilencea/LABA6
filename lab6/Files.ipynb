{
 "cells": [
  {
   "cell_type": "code",
   "execution_count": 1,
   "id": "d22f73ad-d45e-4370-b897-0b5443ff1d8f",
   "metadata": {},
   "outputs": [
    {
     "name": "stdout",
     "output_type": "stream",
     "text": [
      "['4A Games', 'Bandicam', 'BeamNG.drive', 'cachemem.png', 'config', 'Custom Office Templates', 'Darmoshark Mouse Files', 'desktop.ini', 'Electronic Arts', 'Euro Truck Simulator 2', 'FIFA 14', 'FIFA 18', 'FPSMonitor.txt', 'GTA San Andreas User Files', 'GTA Vice City User Files', 'My Games', 'Paradox Interactive', 'Rockstar Games', 'Sports Interactive', 'The Witcher 3', 'Universe Sandbox', 'Zoom', 'Аудиозаписи', 'Без названия.jpeg', 'Мои видеозаписи', 'мои рисунки', 'Моя музыка', 'Настраиваемые шаблоны Office']\n"
     ]
    }
   ],
   "source": [
    "import os\n",
    "\n",
    "path= r\"/Users/Almas/Documents\"\n",
    "all=list(os.listdir(path))\n",
    "print(all)"
   ]
  },
  {
   "cell_type": "code",
   "execution_count": 3,
   "id": "101e5d8d-3c3e-44ef-ba07-2b3deb697121",
   "metadata": {},
   "outputs": [
    {
     "name": "stdout",
     "output_type": "stream",
     "text": [
      "path exist\n",
      "readable\n",
      "writable\n",
      "executable\n"
     ]
    }
   ],
   "source": [
    "import os\n",
    "def check_access(path):\n",
    "    if not os.path.exists(path):\n",
    "        print(\"path doesn't exist\")\n",
    "        return \n",
    "    else:\n",
    "        print('path exist')\n",
    "        if os.access(path, os.R_OK):\n",
    "            print(\"readable\")\n",
    "        else:\n",
    "            print(\"not readable\")\n",
    "        if os.access(path, os.W_OK):\n",
    "            print(\"writable\")\n",
    "        else:\n",
    "            print(\"not writable\")\n",
    "        if os.access(path, os.X_OK):\n",
    "            print(\"executable\")\n",
    "        else:\n",
    "            print(\"not executable\")\n",
    "if __name__ == \"__main__\":\n",
    "    path_to_check = r\"C:/Users/Almas/Downloads\"\n",
    "    \n",
    "check_access(path_to_check)"
   ]
  },
  {
   "cell_type": "code",
   "execution_count": 7,
   "id": "99cda160-153d-4847-9ed2-105e7b8c6ece",
   "metadata": {},
   "outputs": [
    {
     "name": "stdout",
     "output_type": "stream",
     "text": [
      "Name of file:  Onedrive\n",
      "name of directory:  /Users/Almas\n",
      "success\n"
     ]
    }
   ],
   "source": [
    "import os\n",
    "path= r\"/Users/Almas/Onedrive\"\n",
    "def checker(path):\n",
    "    if os.path.exists(path):\n",
    "        print(\"Name of file: \", os.path.basename(path))\n",
    "        print(\"name of directory: \", os.path.dirname(path))\n",
    "        return \"success\"\n",
    "    \n",
    "print(checker(path))"
   ]
  },
  {
   "cell_type": "code",
   "execution_count": 11,
   "id": "e47dba5d-55f5-4486-be43-3bf739a24713",
   "metadata": {},
   "outputs": [
    {
     "name": "stdout",
     "output_type": "stream",
     "text": [
      "2\n"
     ]
    }
   ],
   "source": [
    "import os\n",
    "import string\n",
    "with open(\"Almastext.txt\") as f:\n",
    "    data = f.read()  \n",
    "\n",
    "print(len(list(data.split(\"\\n\"))))\n",
    "f.close()"
   ]
  },
  {
   "cell_type": "code",
   "execution_count": 13,
   "id": "16a37b52-eb82-4774-a734-01b850eaa1ad",
   "metadata": {},
   "outputs": [],
   "source": [
    "def writesome(list_elements):\n",
    "    with open(\"Almastext.txt\", '+a') as f:\n",
    "        text = \"\\n\"\n",
    "        for i in list_elements:\n",
    "            text+=str(i)+' '\n",
    "        f.write(text)\n",
    "        f.close()\n",
    "writesome([1985, 1987,21,60626, \"Neyma\",\"Hazar\"])"
   ]
  },
  {
   "cell_type": "code",
   "execution_count": 14,
   "id": "f359eb74-5463-4b22-8cee-56d3305fab11",
   "metadata": {},
   "outputs": [],
   "source": [
    "import string\n",
    "def generate_files():\n",
    "    for letter in string.ascii_uppercase:\n",
    "        filename = letter + \".txt\"\n",
    "        with open(filename, 'w') as file:\n",
    "            file.write(\"hello nigg\")\n",
    "if __name__ == \"__main__\":\n",
    "    generate_files()"
   ]
  },
  {
   "cell_type": "code",
   "execution_count": 18,
   "id": "f0b9f229-38fb-4e79-8916-5e57fb0506a1",
   "metadata": {},
   "outputs": [
    {
     "name": "stdin",
     "output_type": "stream",
     "text": [
      "name of file: Almastext.txt\n"
     ]
    },
    {
     "data": {
      "text/plain": [
       "0"
      ]
     },
     "execution_count": 18,
     "metadata": {},
     "output_type": "execute_result"
    }
   ],
   "source": [
    "def copier():\n",
    "    string = str(input(\"name of file:\"))\n",
    "    with open(string) as file:\n",
    "        data = file.read()\n",
    "    file.close()\n",
    "    path = \"\"\n",
    "    for i in range(len(string)):\n",
    "        if string[i]=='.':\n",
    "            path+='_1'\n",
    "        path+=string[i]\n",
    "    with open(path, \"+w\") as file_copy:\n",
    "        file_copy.write(data)\n",
    "    file.close()\n",
    "    return 0\n",
    "\n",
    "copier()"
   ]
  },
  {
   "cell_type": "code",
   "execution_count": 23,
   "id": "1e5a7da3-a3ac-4805-bcca-7c10d40d4c72",
   "metadata": {},
   "outputs": [
    {
     "name": "stdin",
     "output_type": "stream",
     "text": [
      "path_delere_file: C:/Users/Almas/Desktop/Almasso\n"
     ]
    },
    {
     "name": "stdout",
     "output_type": "stream",
     "text": [
      "Error\n"
     ]
    }
   ],
   "source": [
    "import os\n",
    "def delete_file(file_path):\n",
    "    if os.path.exists(file_path):\n",
    "        if os.access(file_path,os.W_OK):\n",
    "            try:\n",
    "                os.remove(file_path)\n",
    "                print(f\"file {file_path} delete\") \n",
    "            except Exception as e:\n",
    "                print(\"Error\") \n",
    "        else:\n",
    "            print(\"do not have write access\")\n",
    "    else:\n",
    "        print(f\"File '{file_path}' does not exist.\")\n",
    "path_delete=str(input(\"path_delere_file:\"))\n",
    "delete_file(path_delete)"
   ]
  }
 ],
 "metadata": {
  "kernelspec": {
   "display_name": "Python 3 (ipykernel)",
   "language": "python",
   "name": "python3"
  },
  "language_info": {
   "codemirror_mode": {
    "name": "ipython",
    "version": 3
   },
   "file_extension": ".py",
   "mimetype": "text/x-python",
   "name": "python",
   "nbconvert_exporter": "python",
   "pygments_lexer": "ipython3",
   "version": "3.12.7"
  }
 },
 "nbformat": 4,
 "nbformat_minor": 5
}
