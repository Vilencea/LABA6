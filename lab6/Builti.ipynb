{
 "cells": [
  {
   "cell_type": "code",
   "execution_count": 2,
   "id": "e4c7eebd-8504-49eb-ba01-f24410f57b79",
   "metadata": {},
   "outputs": [
    {
     "name": "stdin",
     "output_type": "stream",
     "text": [
      "size: 3 3 3\n"
     ]
    },
    {
     "name": "stdout",
     "output_type": "stream",
     "text": [
      "27\n"
     ]
    }
   ],
   "source": [
    "list1=input(\"size:\")\n",
    "multi=1\n",
    "my_list=list(map(int,list1.split()))\n",
    "for i in my_list:\n",
    "    multi*=i\n",
    "\n",
    "print(multi)"
   ]
  },
  {
   "cell_type": "code",
   "execution_count": 4,
   "id": "93d03325-ec5e-494d-be72-ab2d38c94bcd",
   "metadata": {},
   "outputs": [
    {
     "name": "stdin",
     "output_type": "stream",
     "text": [
      "enter: AshjasdA\n"
     ]
    },
    {
     "name": "stdout",
     "output_type": "stream",
     "text": [
      "up case: 2\n",
      "low case: 6\n"
     ]
    }
   ],
   "source": [
    "def count_letter(letter):\n",
    "    up=0\n",
    "    low=0\n",
    "    for i in letter:\n",
    "        if i>=\"A\" and i<=\"Z\":\n",
    "            up+=1\n",
    "        else:\n",
    "            low+=1\n",
    "    print(\"up case:\", up)\n",
    "    print(\"low case:\", low)\n",
    "stri=str(input(\"enter:\"))\n",
    "\n",
    "count_letter(stri)"
   ]
  },
  {
   "cell_type": "code",
   "execution_count": 6,
   "id": "a35cb93e-8d06-4288-b8fa-878131780416",
   "metadata": {},
   "outputs": [
    {
     "name": "stdin",
     "output_type": "stream",
     "text": [
      "enter: assa\n"
     ]
    },
    {
     "name": "stdout",
     "output_type": "stream",
     "text": [
      "True\n"
     ]
    }
   ],
   "source": [
    "def polindrom(stri,teris):\n",
    "    for i in stri:\n",
    "        for j in teris:\n",
    "            if i!=j:\n",
    "                return False\n",
    "                break\n",
    "            return True\n",
    "        \n",
    "stri=str(input(\"enter:\"))\n",
    "stri_reverse=''.join(reversed(stri))\n",
    "\n",
    "print(polindrom(stri,stri_reverse))"
   ]
  },
  {
   "cell_type": "code",
   "execution_count": 8,
   "id": "91e5bf4f-b3f6-4ecc-87fc-ea91902a3973",
   "metadata": {},
   "outputs": [
    {
     "name": "stdin",
     "output_type": "stream",
     "text": [
      "Enter: 25100\n",
      "Enter 2nd: 2123\n"
     ]
    },
    {
     "name": "stdout",
     "output_type": "stream",
     "text": [
      "Square root 25100 after 2123 milisec is 158.42979517754858\n"
     ]
    }
   ],
   "source": [
    "import math\n",
    "import time\n",
    "time_milisec=int(input(\"Enter:\"))\n",
    "time2_milisec=int(input(\"Enter 2nd:\"))\n",
    "\n",
    "print(f\"Square root {time_milisec} after {time2_milisec} milisec is {math.sqrt(time_milisec)}\")"
   ]
  },
  {
   "cell_type": "code",
   "execution_count": 15,
   "id": "bebd422b-e874-457f-886e-3c9c11b1172e",
   "metadata": {},
   "outputs": [
    {
     "name": "stdin",
     "output_type": "stream",
     "text": [
      "Enter: 0 1 2\n"
     ]
    },
    {
     "name": "stdout",
     "output_type": "stream",
     "text": [
      "True mylist: False\n"
     ]
    }
   ],
   "source": [
    "size=input(\"Enter:\")\n",
    "mylist=list(map(int,size.split()))\n",
    "print(\"True mylist:\",all(mylist))"
   ]
  }
 ],
 "metadata": {
  "kernelspec": {
   "display_name": "Python 3 (ipykernel)",
   "language": "python",
   "name": "python3"
  },
  "language_info": {
   "codemirror_mode": {
    "name": "ipython",
    "version": 3
   },
   "file_extension": ".py",
   "mimetype": "text/x-python",
   "name": "python",
   "nbconvert_exporter": "python",
   "pygments_lexer": "ipython3",
   "version": "3.12.7"
  }
 },
 "nbformat": 4,
 "nbformat_minor": 5
}
